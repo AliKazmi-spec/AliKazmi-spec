{
  "nbformat": 4,
  "nbformat_minor": 0,
  "metadata": {
    "colab": {
      "provenance": [],
      "authorship_tag": "ABX9TyMU4FNbZv5gIPUSHI96zSk9",
      "include_colab_link": true
    },
    "kernelspec": {
      "name": "python3",
      "display_name": "Python 3"
    },
    "language_info": {
      "name": "python"
    }
  },
  "cells": [
    {
      "cell_type": "markdown",
      "metadata": {
        "id": "view-in-github",
        "colab_type": "text"
      },
      "source": [
        "<a href=\"https://colab.research.google.com/github/AliKazmi-spec/AliKazmi-spec/blob/main/Algorithms_Assignment_1.ipynb\" target=\"_parent\"><img src=\"https://colab.research.google.com/assets/colab-badge.svg\" alt=\"Open In Colab\"/></a>"
      ]
    },
    {
      "cell_type": "code",
      "source": [
        "hash(\"Ali\")%3+1"
      ],
      "metadata": {
        "colab": {
          "base_uri": "https://localhost:8080/"
        },
        "id": "y6lAJeKsDVG4",
        "outputId": "162e51aa-762d-47a9-d0f0-8cc4ac024227"
      },
      "execution_count": 1,
      "outputs": [
        {
          "output_type": "execute_result",
          "data": {
            "text/plain": [
              "3"
            ]
          },
          "metadata": {},
          "execution_count": 1
        }
      ]
    },
    {
      "cell_type": "markdown",
      "source": [
        "Paraphrase the problem in your own words\n",
        "\n",
        "In the .md file containing your problem, there are examples that illustrate how the code should work. Create 2 new examples that demonstrate you understand the problem.\n",
        "\n",
        "Code the solution to your assigned problem in Python (code chunk). Try to find the best time and space complexity solution!\n",
        "\n",
        "Explain why your solution works\n",
        "\n",
        "Explain the problem’s and space complexity\n",
        "\n",
        "Explain the thinking to an alternative solution (no coding required, but a classmate reading this should be able to code it up based off your text)"
      ],
      "metadata": {
        "id": "UauqPr6ZlEcm"
      }
    },
    {
      "cell_type": "code",
      "execution_count": 1,
      "metadata": {
        "id": "zVOZFyzbDMsx"
      },
      "outputs": [],
      "source": [
        "def missing_num(nums):\n",
        "    num_set = set(nums)\n",
        "    n = len(nums)\n",
        "    missing = []\n",
        "\n",
        "    for i in range(n+1):\n",
        "        if i not in num_set:\n",
        "            missing.append(i)\n",
        "\n",
        "    return missing if missing else -1\n"
      ]
    },
    {
      "cell_type": "markdown",
      "source": [
        "This solution iterates through the expected range of numbers from 0 to n and checks if each number is present in the set of given numbers. If a number is missing, it's added to the list missing. This method works efficiently because set operations (checking if an element is in a set) have an average time complexity of O(1), making the overall time complexity O(n) where n is the range of numbers"
      ],
      "metadata": {
        "id": "P069vpUtnEEe"
      }
    },
    {
      "cell_type": "markdown",
      "source": [
        "Explain Time and Space Complexity\n",
        "Time Complexity: O(n), where n is the range of numbers from 0 to n. This is because we iterate through each number in the range once.\n",
        "Space Complexity: O(n) for storing the numbers in a set for quick lookup, plus the space needed for the output list (in the worst case, this could also be up to O(n) if many numbers are missing)."
      ],
      "metadata": {
        "id": "WcqGmoP8nbwT"
      }
    },
    {
      "cell_type": "markdown",
      "source": [
        "An alternative solution could involve sorting the list first and then iterating through the list to find gaps in the sequence. This approach wouldn't require extra space for a set, but the time complexity would be O(n log n) due to the sorting operation. After sorting, you'd only need to pass through the list once, checking for missing numbers by comparing adjacent elements"
      ],
      "metadata": {
        "id": "WYg4-i15n67r"
      }
    },
    {
      "cell_type": "code",
      "source": [],
      "metadata": {
        "id": "_bnrUSG1Dcet"
      },
      "execution_count": null,
      "outputs": []
    }
  ]
}